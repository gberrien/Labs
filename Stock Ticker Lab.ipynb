{
 "cells": [
  {
   "cell_type": "code",
   "execution_count": null,
   "metadata": {},
   "outputs": [],
   "source": [
    "#https://pynative.com/python-accept-list-input-from-user/\n",
    "input_string = input('Enter stock ticker symbols separated by space ')\n",
    "ticker_list = input_string.split()\n",
    "print('list: ', ticker_list)"
   ]
  },
  {
   "cell_type": "code",
   "execution_count": null,
   "metadata": {},
   "outputs": [],
   "source": [
    "#https://marqueegroup.ca/resource/how-to-use-python-in-a-finance-environment/\n",
    "#^got some help with formatting, for loops, and using brackets, specifically [0]\n",
    "for ticker in ticker_list:\n",
    "    url = \"https://yfapi.net/v6/finance/quote\"\n",
    "\n",
    "    querystring = {\"symbols\": ticker}\n",
    "    headers = {\n",
    "    'x-api-key': \"8iTWVEC3LO7ydvfq0Xg116jmO5s0RGwK8C6RUMka\"\n",
    "       }\n",
    "    \n",
    "    response = requests.request(\"GET\", url, headers=headers, params=querystring)\n",
    "    stock_json = response.json()\n",
    "    if (len(stock_json['quoteResponse']['result'])<1)or(stock_json['quoteResponse']['result'][0]['quoteType']!=\"EQUITY\"):\n",
    "        print(\"The stock ticker \" + ticker + \" is not valid. Enter again.\")\n",
    "    else:\n",
    "        print(str(stock_json['quoteResponse']['result'][0]['longName']) + \": \" + str(stock_json['quoteResponse']['result'][0]['regularMarketPrice']))\n",
    "    "
   ]
  }
 ],
 "metadata": {
  "kernelspec": {
   "display_name": "Python 3",
   "language": "python",
   "name": "python3"
  },
  "language_info": {
   "codemirror_mode": {
    "name": "ipython",
    "version": 3
   },
   "file_extension": ".py",
   "mimetype": "text/x-python",
   "name": "python",
   "nbconvert_exporter": "python",
   "pygments_lexer": "ipython3",
   "version": "3.7.6"
  }
 },
 "nbformat": 4,
 "nbformat_minor": 4
}
