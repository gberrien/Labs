{
 "cells": [
  {
   "cell_type": "code",
   "execution_count": 4,
   "metadata": {},
   "outputs": [],
   "source": [
    "import json \n",
    "import requests\n",
    "import urllib.request"
   ]
  },
  {
   "cell_type": "code",
   "execution_count": 8,
   "metadata": {},
   "outputs": [
    {
     "name": "stdout",
     "output_type": "stream",
     "text": [
      "Enter stock ticker symbols separated by space aapl apl mcft msft orcl ocl\n",
      "list:  ['aapl', 'apl', 'mcft', 'msft', 'orcl', 'ocl']\n"
     ]
    }
   ],
   "source": [
    "#https://pynative.com/python-accept-list-input-from-user/\n",
    "input_string = input('Enter stock ticker symbols separated by space ')\n",
    "ticker_list = input_string.split()\n",
    "print('list: ', ticker_list)"
   ]
  },
  {
   "cell_type": "code",
   "execution_count": 9,
   "metadata": {},
   "outputs": [
    {
     "name": "stdout",
     "output_type": "stream",
     "text": [
      "Apple Inc.: 163.17\n",
      "The stock ticker apl is not valid. Enter again.\n",
      "MasterCraft Boat Holdings, Inc.: 26.62\n",
      "Microsoft Corporation: 289.86\n",
      "Oracle Corporation: 76.49\n",
      "The stock ticker ocl is not valid. Enter again.\n"
     ]
    }
   ],
   "source": [
    "#https://marqueegroup.ca/resource/how-to-use-python-in-a-finance-environment/\n",
    "#^got some help with formatting, for loops, and using brackets, specifically [0]\n",
    "for ticker in ticker_list:\n",
    "    url = \"https://yfapi.net/v6/finance/quote\"\n",
    "\n",
    "    querystring = {\"symbols\": ticker}\n",
    "    headers = {\n",
    "    'x-api-key': \"P4MKv9r98c6Sb545iaefz7R9TPMSJySs7vxZBl3F\"\n",
    "       }\n",
    "    \n",
    "    response = requests.request(\"GET\", url, headers=headers, params=querystring)\n",
    "    stock_json = response.json()\n",
    "    if (len(stock_json['quoteResponse']['result'])<1)or(stock_json['quoteResponse']['result'][0]['quoteType']!=\"EQUITY\")or(stock_json['quoteResponse']['result'][0]['region']!=\"US\"):\n",
    "        print(\"The stock ticker \" + ticker + \" is not valid. Enter again.\")\n",
    "    else:\n",
    "        print(str(stock_json['quoteResponse']['result'][0]['longName']) + \": \" + str(stock_json['quoteResponse']['result'][0]['regularMarketPrice']))\n",
    "    "
   ]
  },
  {
   "cell_type": "code",
   "execution_count": null,
   "metadata": {},
   "outputs": [],
   "source": []
  }
 ],
 "metadata": {
  "kernelspec": {
   "display_name": "Python 3",
   "language": "python",
   "name": "python3"
  },
  "language_info": {
   "codemirror_mode": {
    "name": "ipython",
    "version": 3
   },
   "file_extension": ".py",
   "mimetype": "text/x-python",
   "name": "python",
   "nbconvert_exporter": "python",
   "pygments_lexer": "ipython3",
   "version": "3.7.6"
  }
 },
 "nbformat": 4,
 "nbformat_minor": 4
}
